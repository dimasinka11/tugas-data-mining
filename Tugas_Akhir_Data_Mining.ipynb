{
  "nbformat": 4,
  "nbformat_minor": 0,
  "metadata": {
    "colab": {
      "name": "Tugas Akhir Data Mining.ipynb",
      "provenance": [],
      "authorship_tag": "ABX9TyNltpqduh53y2l5txcoAnHl",
      "include_colab_link": true
    },
    "kernelspec": {
      "name": "python3",
      "display_name": "Python 3"
    },
    "language_info": {
      "name": "python"
    }
  },
  "cells": [
    {
      "cell_type": "markdown",
      "metadata": {
        "id": "view-in-github",
        "colab_type": "text"
      },
      "source": [
        "<a href=\"https://colab.research.google.com/github/dimasinka11/tugas-data-mining/blob/main/Tugas_Akhir_Data_Mining.ipynb\" target=\"_parent\"><img src=\"https://colab.research.google.com/assets/colab-badge.svg\" alt=\"Open In Colab\"/></a>"
      ]
    },
    {
      "cell_type": "code",
      "metadata": {
        "id": "zH_jEUx6dvo8"
      },
      "source": [
        "#Mempersiapkan Library\n",
        "import numpy as np\n",
        "import pandas as pd\n",
        "import matplotlib.pyplot as plt\n",
        "import sklearn"
      ],
      "execution_count": 46,
      "outputs": []
    },
    {
      "cell_type": "code",
      "metadata": {
        "id": "UxvzTCHPeFcI"
      },
      "source": [
        "#Memanggil dataset\n",
        "dataset = pd.read_excel('HargaCupang.xlsx')\n",
        "x = dataset.iloc[:, :-1].values\n",
        "y = dataset.iloc[:, 1].values"
      ],
      "execution_count": 47,
      "outputs": []
    },
    {
      "cell_type": "code",
      "metadata": {
        "colab": {
          "base_uri": "https://localhost:8080/"
        },
        "id": "flmW5_VaeRFX",
        "outputId": "6c6e1b7b-949e-443e-cb3d-5e57247a498d"
      },
      "source": [
        "dataset.keys()"
      ],
      "execution_count": 33,
      "outputs": [
        {
          "output_type": "execute_result",
          "data": {
            "text/plain": [
              "Index(['UmurCupang', 'HargaJual'], dtype='object')"
            ]
          },
          "metadata": {
            "tags": []
          },
          "execution_count": 33
        }
      ]
    },
    {
      "cell_type": "code",
      "metadata": {
        "colab": {
          "base_uri": "https://localhost:8080/"
        },
        "id": "0hPobEPdeUZt",
        "outputId": "f44e46d2-2e7f-4b62-b95c-82409212b370"
      },
      "source": [
        "dataset.shape"
      ],
      "execution_count": 34,
      "outputs": [
        {
          "output_type": "execute_result",
          "data": {
            "text/plain": [
              "(999, 2)"
            ]
          },
          "metadata": {
            "tags": []
          },
          "execution_count": 34
        }
      ]
    },
    {
      "cell_type": "code",
      "metadata": {
        "colab": {
          "base_uri": "https://localhost:8080/",
          "height": 203
        },
        "id": "3kZLVz-6ecmF",
        "outputId": "215292cc-855a-412e-bcc6-fc1b2b9598b0"
      },
      "source": [
        "#Menampilkan isi sebagian dataset\n",
        "dataku = pd.DataFrame(dataset)\n",
        "dataku.head()"
      ],
      "execution_count": 35,
      "outputs": [
        {
          "output_type": "execute_result",
          "data": {
            "text/html": [
              "<div>\n",
              "<style scoped>\n",
              "    .dataframe tbody tr th:only-of-type {\n",
              "        vertical-align: middle;\n",
              "    }\n",
              "\n",
              "    .dataframe tbody tr th {\n",
              "        vertical-align: top;\n",
              "    }\n",
              "\n",
              "    .dataframe thead th {\n",
              "        text-align: right;\n",
              "    }\n",
              "</style>\n",
              "<table border=\"1\" class=\"dataframe\">\n",
              "  <thead>\n",
              "    <tr style=\"text-align: right;\">\n",
              "      <th></th>\n",
              "      <th>UmurCupang</th>\n",
              "      <th>HargaJual</th>\n",
              "    </tr>\n",
              "  </thead>\n",
              "  <tbody>\n",
              "    <tr>\n",
              "      <th>0</th>\n",
              "      <td>2</td>\n",
              "      <td>5200</td>\n",
              "    </tr>\n",
              "    <tr>\n",
              "      <th>1</th>\n",
              "      <td>2</td>\n",
              "      <td>5210</td>\n",
              "    </tr>\n",
              "    <tr>\n",
              "      <th>2</th>\n",
              "      <td>2</td>\n",
              "      <td>5220</td>\n",
              "    </tr>\n",
              "    <tr>\n",
              "      <th>3</th>\n",
              "      <td>2</td>\n",
              "      <td>5230</td>\n",
              "    </tr>\n",
              "    <tr>\n",
              "      <th>4</th>\n",
              "      <td>2</td>\n",
              "      <td>5240</td>\n",
              "    </tr>\n",
              "  </tbody>\n",
              "</table>\n",
              "</div>"
            ],
            "text/plain": [
              "   UmurCupang  HargaJual\n",
              "0           2       5200\n",
              "1           2       5210\n",
              "2           2       5220\n",
              "3           2       5230\n",
              "4           2       5240"
            ]
          },
          "metadata": {
            "tags": []
          },
          "execution_count": 35
        }
      ]
    },
    {
      "cell_type": "code",
      "metadata": {
        "id": "ET5H9n2yefhV"
      },
      "source": [
        "#Split dataset menjadi training set dan testing set\n",
        "from sklearn.model_selection import train_test_split\n",
        "x_train, x_test, y_train, y_test = train_test_split(x, y, test_size = 0.2, random_state=0)"
      ],
      "execution_count": 36,
      "outputs": []
    },
    {
      "cell_type": "code",
      "metadata": {
        "colab": {
          "base_uri": "https://localhost:8080/"
        },
        "id": "CqoT8isRekqu",
        "outputId": "dfd542ce-152c-4532-ae4a-80a26406b98f"
      },
      "source": [
        "#Melakukan Fitting Simple Linear Regression pada Training Set\n",
        "from sklearn.linear_model import LinearRegression\n",
        "regressor = LinearRegression()\n",
        "regressor.fit(x_train, y_train)"
      ],
      "execution_count": 37,
      "outputs": [
        {
          "output_type": "execute_result",
          "data": {
            "text/plain": [
              "LinearRegression(copy_X=True, fit_intercept=True, n_jobs=None, normalize=False)"
            ]
          },
          "metadata": {
            "tags": []
          },
          "execution_count": 37
        }
      ]
    },
    {
      "cell_type": "code",
      "metadata": {
        "id": "TU2WzibZepK-"
      },
      "source": [
        "#Memprediksi Hasil Test-Set\n",
        "y_pred = regressor.predict(x_test)"
      ],
      "execution_count": 42,
      "outputs": []
    },
    {
      "cell_type": "code",
      "metadata": {
        "colab": {
          "base_uri": "https://localhost:8080/"
        },
        "id": "sALZ2EhuLP_J",
        "outputId": "a7768b5e-4f59-4d12-b022-46304647e172"
      },
      "source": [
        "y_pred"
      ],
      "execution_count": 43,
      "outputs": [
        {
          "output_type": "execute_result",
          "data": {
            "text/plain": [
              "array([9854.86215508, 2232.52851728, 9854.86215508, 9854.86215508,\n",
              "       9854.86215508, 7314.08427582, 7314.08427582, 7314.08427582,\n",
              "       2232.52851728, 7314.08427582, 9854.86215508, 4773.30639655,\n",
              "       7314.08427582, 9854.86215508, 9854.86215508, 9854.86215508,\n",
              "       7314.08427582, 7314.08427582, 4773.30639655, 9854.86215508,\n",
              "       9854.86215508, 7314.08427582, 2232.52851728, 9854.86215508,\n",
              "       4773.30639655, 4773.30639655, 2232.52851728, 4773.30639655,\n",
              "       7314.08427582, 9854.86215508, 9854.86215508, 4773.30639655,\n",
              "       7314.08427582, 7314.08427582, 9854.86215508, 9854.86215508,\n",
              "       2232.52851728, 9854.86215508, 4773.30639655, 4773.30639655,\n",
              "       9854.86215508, 7314.08427582, 9854.86215508, 2232.52851728,\n",
              "       4773.30639655, 9854.86215508, 9854.86215508, 9854.86215508,\n",
              "       7314.08427582, 9854.86215508, 7314.08427582, 9854.86215508,\n",
              "       7314.08427582, 4773.30639655, 9854.86215508, 7314.08427582,\n",
              "       7314.08427582, 4773.30639655, 9854.86215508, 7314.08427582,\n",
              "       9854.86215508, 9854.86215508, 4773.30639655, 9854.86215508,\n",
              "       9854.86215508, 9854.86215508, 7314.08427582, 9854.86215508,\n",
              "       7314.08427582, 9854.86215508, 7314.08427582, 7314.08427582,\n",
              "       9854.86215508, 7314.08427582, 9854.86215508, 7314.08427582,\n",
              "       9854.86215508, 7314.08427582, 9854.86215508, 4773.30639655,\n",
              "       9854.86215508, 4773.30639655, 9854.86215508, 4773.30639655,\n",
              "       7314.08427582, 7314.08427582, 7314.08427582, 7314.08427582,\n",
              "       4773.30639655, 9854.86215508, 9854.86215508, 9854.86215508,\n",
              "       7314.08427582, 7314.08427582, 4773.30639655, 9854.86215508,\n",
              "       9854.86215508, 7314.08427582, 7314.08427582, 2232.52851728,\n",
              "       4773.30639655, 7314.08427582, 9854.86215508, 9854.86215508,\n",
              "       9854.86215508, 7314.08427582, 4773.30639655, 4773.30639655,\n",
              "       7314.08427582, 7314.08427582, 4773.30639655, 4773.30639655,\n",
              "       9854.86215508, 7314.08427582, 4773.30639655, 9854.86215508,\n",
              "       4773.30639655, 9854.86215508, 9854.86215508, 7314.08427582,\n",
              "       2232.52851728, 9854.86215508, 9854.86215508, 9854.86215508,\n",
              "       4773.30639655, 9854.86215508, 4773.30639655, 7314.08427582,\n",
              "       9854.86215508, 7314.08427582, 9854.86215508, 9854.86215508,\n",
              "       9854.86215508, 4773.30639655, 2232.52851728, 9854.86215508,\n",
              "       9854.86215508, 4773.30639655, 9854.86215508, 4773.30639655,\n",
              "       7314.08427582, 7314.08427582, 7314.08427582, 7314.08427582,\n",
              "       7314.08427582, 2232.52851728, 2232.52851728, 4773.30639655,\n",
              "       2232.52851728, 7314.08427582, 9854.86215508, 9854.86215508,\n",
              "       9854.86215508, 7314.08427582, 9854.86215508, 7314.08427582,\n",
              "       9854.86215508, 7314.08427582, 9854.86215508, 9854.86215508,\n",
              "       9854.86215508, 7314.08427582, 4773.30639655, 7314.08427582,\n",
              "       9854.86215508, 4773.30639655, 7314.08427582, 9854.86215508,\n",
              "       4773.30639655, 4773.30639655, 4773.30639655, 9854.86215508,\n",
              "       7314.08427582, 4773.30639655, 7314.08427582, 4773.30639655,\n",
              "       9854.86215508, 7314.08427582, 7314.08427582, 4773.30639655,\n",
              "       4773.30639655, 9854.86215508, 9854.86215508, 4773.30639655,\n",
              "       7314.08427582, 4773.30639655, 9854.86215508, 7314.08427582,\n",
              "       9854.86215508, 2232.52851728, 7314.08427582, 9854.86215508,\n",
              "       9854.86215508, 9854.86215508, 9854.86215508, 4773.30639655,\n",
              "       4773.30639655, 4773.30639655, 9854.86215508, 7314.08427582])"
            ]
          },
          "metadata": {
            "tags": []
          },
          "execution_count": 43
        }
      ]
    },
    {
      "cell_type": "code",
      "metadata": {
        "colab": {
          "base_uri": "https://localhost:8080/",
          "height": 417
        },
        "id": "-nsJhKr7L1nB",
        "outputId": "fab5a5e3-f72a-4a93-a263-bbc21a888791"
      },
      "source": [
        "dataku.dropna()"
      ],
      "execution_count": 44,
      "outputs": [
        {
          "output_type": "execute_result",
          "data": {
            "text/html": [
              "<div>\n",
              "<style scoped>\n",
              "    .dataframe tbody tr th:only-of-type {\n",
              "        vertical-align: middle;\n",
              "    }\n",
              "\n",
              "    .dataframe tbody tr th {\n",
              "        vertical-align: top;\n",
              "    }\n",
              "\n",
              "    .dataframe thead th {\n",
              "        text-align: right;\n",
              "    }\n",
              "</style>\n",
              "<table border=\"1\" class=\"dataframe\">\n",
              "  <thead>\n",
              "    <tr style=\"text-align: right;\">\n",
              "      <th></th>\n",
              "      <th>UmurCupang</th>\n",
              "      <th>HargaJual</th>\n",
              "    </tr>\n",
              "  </thead>\n",
              "  <tbody>\n",
              "    <tr>\n",
              "      <th>0</th>\n",
              "      <td>2</td>\n",
              "      <td>5200</td>\n",
              "    </tr>\n",
              "    <tr>\n",
              "      <th>1</th>\n",
              "      <td>2</td>\n",
              "      <td>5210</td>\n",
              "    </tr>\n",
              "    <tr>\n",
              "      <th>2</th>\n",
              "      <td>2</td>\n",
              "      <td>5220</td>\n",
              "    </tr>\n",
              "    <tr>\n",
              "      <th>3</th>\n",
              "      <td>2</td>\n",
              "      <td>5230</td>\n",
              "    </tr>\n",
              "    <tr>\n",
              "      <th>4</th>\n",
              "      <td>2</td>\n",
              "      <td>5240</td>\n",
              "    </tr>\n",
              "    <tr>\n",
              "      <th>...</th>\n",
              "      <td>...</td>\n",
              "      <td>...</td>\n",
              "    </tr>\n",
              "    <tr>\n",
              "      <th>994</th>\n",
              "      <td>5</td>\n",
              "      <td>12140</td>\n",
              "    </tr>\n",
              "    <tr>\n",
              "      <th>995</th>\n",
              "      <td>5</td>\n",
              "      <td>12150</td>\n",
              "    </tr>\n",
              "    <tr>\n",
              "      <th>996</th>\n",
              "      <td>5</td>\n",
              "      <td>12160</td>\n",
              "    </tr>\n",
              "    <tr>\n",
              "      <th>997</th>\n",
              "      <td>5</td>\n",
              "      <td>12170</td>\n",
              "    </tr>\n",
              "    <tr>\n",
              "      <th>998</th>\n",
              "      <td>5</td>\n",
              "      <td>12180</td>\n",
              "    </tr>\n",
              "  </tbody>\n",
              "</table>\n",
              "<p>999 rows × 2 columns</p>\n",
              "</div>"
            ],
            "text/plain": [
              "     UmurCupang  HargaJual\n",
              "0             2       5200\n",
              "1             2       5210\n",
              "2             2       5220\n",
              "3             2       5230\n",
              "4             2       5240\n",
              "..          ...        ...\n",
              "994           5      12140\n",
              "995           5      12150\n",
              "996           5      12160\n",
              "997           5      12170\n",
              "998           5      12180\n",
              "\n",
              "[999 rows x 2 columns]"
            ]
          },
          "metadata": {
            "tags": []
          },
          "execution_count": 44
        }
      ]
    },
    {
      "cell_type": "code",
      "metadata": {
        "colab": {
          "base_uri": "https://localhost:8080/",
          "height": 312
        },
        "id": "E3cY2z4Qeul2",
        "outputId": "3b906d5c-0a03-447d-8eb7-3188f2b57182"
      },
      "source": [
        "#Visualisasi Data\n",
        "plt.scatter(dataku.UmurCupang, dataku.HargaJual)\n",
        "plt.xlabel('Usia Cupang (bulan)')\n",
        "plt.ylabel('Harga Cupang ($)')\n",
        "plt.title('Grafik Usia Cupang vs Harga Cupang')\n",
        "plt.show"
      ],
      "execution_count": 45,
      "outputs": [
        {
          "output_type": "execute_result",
          "data": {
            "text/plain": [
              "<function matplotlib.pyplot.show>"
            ]
          },
          "metadata": {
            "tags": []
          },
          "execution_count": 45
        },
        {
          "output_type": "display_data",
          "data": {
            "image/png": "[encoded data removed]",
            "text/plain": [
              "<Figure size 432x288 with 1 Axes>"
            ]
          },
          "metadata": {
            "tags": [],
            "needs_background": "light"
          }
        }
      ]
    },
    {
      "cell_type": "code",
      "metadata": {
        "colab": {
          "base_uri": "https://localhost:8080/",
          "height": 530
        },
        "id": "6XkvD2TBk0Qw",
        "outputId": "ff7e84fe-f209-4a30-8388-482d452d1d4e"
      },
      "source": [
        "#Visualisasi Hasil Prediksi Pada Training Set\n",
        "#Ukuran Plot\n",
        "plt.figure(figsize=(10, 8))\n",
        "\n",
        "#merah adalah data observasi\n",
        "plt.scatter(x_train, y_train, color='red')\n",
        "\n",
        "#Garis biru adalah hasil prediksi dari Mechine Learning\n",
        "plt.plot(x_train, regressor.predict(x_train), color ='blue')\n",
        "\n",
        "#Memberi Judul dan Label\n",
        "plt.title('Usia Cupang terhadap Harga(Training Set)')\n",
        "plt.xlabel('Usia Cupang')\n",
        "plt.ylabel('Harga')\n",
        "\n",
        "#Menampilkan Plot\n",
        "plt.show"
      ],
      "execution_count": 40,
      "outputs": [
        {
          "output_type": "execute_result",
          "data": {
            "text/plain": [
              "<function matplotlib.pyplot.show>"
            ]
          },
          "metadata": {
            "tags": []
          },
          "execution_count": 40
        },
        {
          "output_type": "display_data",
          "data": {
            "image/png": "[encoded data removed]",
            "text/plain": [
              "<Figure size 720x576 with 1 Axes>"
            ]
          },
          "metadata": {
            "tags": [],
            "needs_background": "light"
          }
        }
      ]
    },
    {
      "cell_type": "code",
      "metadata": {
        "colab": {
          "base_uri": "https://localhost:8080/",
          "height": 530
        },
        "id": "uR91Sz4alk_4",
        "outputId": "dc1d7ddc-650a-43c7-f8f5-82dbdcd5267f"
      },
      "source": [
        "#Visualisasi Hasil Prediksi Pada Test-Set\n",
        "#Ukuran Plot\n",
        "plt.figure(figsize=(10,8))\n",
        "\n",
        "#merah Adalah Data Observasi\n",
        "plt.scatter(x_test, y_test, color = 'red')\n",
        "\n",
        "#Garis biru adalah hasil prediksi dari machine learning\n",
        "plt.plot(x_test, regressor.predict(x_test), color = 'blue')\n",
        "\n",
        "#Memberikan Judul dan Label\n",
        "plt.title('Usia Cupang terhadap Harga(Test Set)')\n",
        "plt.xlabel('Usia Cupang')\n",
        "plt.ylabel('Harga')\n",
        "\n",
        "#Menampilkan Plot\n",
        "plt.show"
      ],
      "execution_count": 41,
      "outputs": [
        {
          "output_type": "execute_result",
          "data": {
            "text/plain": [
              "<function matplotlib.pyplot.show>"
            ]
          },
          "metadata": {
            "tags": []
          },
          "execution_count": 41
        },
        {
          "output_type": "display_data",
          "data": {
            "image/png": "[encoded data removed]",
            "text/plain": [
              "<Figure size 720x576 with 1 Axes>"
            ]
          },
          "metadata": {
            "tags": [],
            "needs_background": "light"
          }
        }
      ]
    }
  ]
}